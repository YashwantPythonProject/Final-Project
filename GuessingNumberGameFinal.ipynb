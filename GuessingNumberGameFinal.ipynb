{
 "cells": [
  {
   "cell_type": "markdown",
   "id": "7f41d7c1",
   "metadata": {},
   "source": [
    "# Library used to generate the random number"
   ]
  },
  {
   "cell_type": "code",
   "execution_count": 9,
   "id": "a40dd7ee",
   "metadata": {},
   "outputs": [],
   "source": [
    "import random"
   ]
  },
  {
   "cell_type": "markdown",
   "id": "8d6e88e1",
   "metadata": {},
   "source": [
    "# Calculate how close the player is to the actual value"
   ]
  },
  {
   "cell_type": "code",
   "execution_count": 10,
   "id": "3c95ce1d",
   "metadata": {},
   "outputs": [],
   "source": [
    "def calculate_accuracy(guess, actual_number):\n",
    "    if guess == 0:\n",
    "        return 0\n",
    "    return 100 - (abs(guess - actual_number) / actual_number * 100)"
   ]
  },
  {
   "cell_type": "markdown",
   "id": "83a7296f",
   "metadata": {},
   "source": [
    "We first check whether the guess is zero. This is to avoid a division by  zero error and returns 0% just in case. We then calculate the absolute difference between the guessed and actual number. The results is returned as a percentage of the actual number"
   ]
  },
  {
   "cell_type": "markdown",
   "id": "7cb6ac5f",
   "metadata": {},
   "source": [
    "# Manage a single round for one player"
   ]
  },
  {
   "cell_type": "code",
   "execution_count": 11,
   "id": "adf39242",
   "metadata": {},
   "outputs": [],
   "source": [
    "def guess_the_number(player_name, number_to_guess):\n",
    "    max_attempts = 5\n",
    "    best_accuracy = 0\n",
    "\n",
    "    print(f\"\\n{player_name}, I'm thinking of a number between 1 and 100. You have {max_attempts} tries.\")\n",
    "\n",
    "    for _ in range(max_attempts):\n",
    "        try:\n",
    "            player_guess = int(input(f\"{player_name}, enter your guess: \"))\n",
    "            accuracy = calculate_accuracy(player_guess, number_to_guess)\n",
    "\n",
    "            if accuracy > best_accuracy:\n",
    "                best_accuracy = accuracy\n",
    "\n",
    "            if player_guess < number_to_guess:\n",
    "                print(\"Too low. Try again.\")\n",
    "            elif player_guess > number_to_guess:\n",
    "                print(\"Too high. Try again.\")\n",
    "            elif player_guess == number_to_guess:\n",
    "                print(f\"Congratulations, {player_name}! You guessed the number correctly.\")\n",
    "                return 100  # Max accuracy\n",
    "\n",
    "        except ValueError:\n",
    "            print(\"Please enter a valid integer.\")\n",
    "\n",
    "    print(f\"{player_name}, your attempts are over. Your best guess was {best_accuracy:.2f}% close to the number.\")\n",
    "    return best_accuracy"
   ]
  },
  {
   "cell_type": "markdown",
   "id": "75162c89",
   "metadata": {},
   "source": [
    "We first specify the maximum number of attempts. A for loop is used to give the player a ficed number of opportunities to make a guess. It informs the player whether their guess is too high or too low. If the player somehow guesses the correct number it will announce success and return a 100% success rate. otherwise, the output is given based on the closes number to the actual value"
   ]
  },
  {
   "cell_type": "markdown",
   "id": "f204affb",
   "metadata": {},
   "source": [
    "# Main function"
   ]
  },
  {
   "cell_type": "code",
   "execution_count": 12,
   "id": "b9781449",
   "metadata": {},
   "outputs": [],
   "source": [
    "def main():\n",
    "    number_of_players = int(input(\"Enter the number of players: \"))\n",
    "    players = {}\n",
    "    number_to_guess = random.randint(1, 100)\n",
    "\n",
    "    for _ in range(number_of_players):\n",
    "        player_name = input(\"Enter player's name: \")\n",
    "        accuracy = guess_the_number(player_name, number_to_guess)\n",
    "        players[player_name] = accuracy\n",
    "\n",
    "    # Ranking players\n",
    "    ranked_players = sorted(players.items(), key=lambda x: x[1], reverse=True)\n",
    "    print(\"\\nGame Over! Here's the ranking:\")\n",
    "    for rank, (player, accuracy) in enumerate(ranked_players, start=1):\n",
    "        print(f\"{rank}. {player} with {accuracy:.2f}% closeness\")"
   ]
  },
  {
   "cell_type": "markdown",
   "id": "e126f3ba",
   "metadata": {},
   "source": [
    "This function asks the number of players and initializes a dictionary to save the player's name and their accuracy. A random number between 1 and 100 is generated. A loop is run where each player takes their turn in the game and the records are recorded. Once all the players have players, they are sorted in decending order based on their predictions and the results are outputted. "
   ]
  },
  {
   "cell_type": "markdown",
   "id": "f567299a",
   "metadata": {},
   "source": [
    "#Calling the main function"
   ]
  },
  {
   "cell_type": "code",
   "execution_count": 13,
   "id": "a82e0fd9",
   "metadata": {},
   "outputs": [
    {
     "name": "stdout",
     "output_type": "stream",
     "text": [
      "Enter the number of players: 2\n",
      "Enter player's name: Mitchelle\n",
      "\n",
      "Mitchelle, I'm thinking of a number between 1 and 100. You have 5 tries.\n",
      "Mitchelle, enter your guess: 100\n",
      "Too high. Try again.\n",
      "Mitchelle, enter your guess: 60\n",
      "Too high. Try again.\n",
      "Mitchelle, enter your guess: 20\n",
      "Too low. Try again.\n",
      "Mitchelle, enter your guess: 30\n",
      "Too low. Try again.\n",
      "Mitchelle, enter your guess: 40\n",
      "Too low. Try again.\n",
      "Mitchelle, your attempts are over. Your best guess was 95.24% close to the number.\n",
      "Enter player's name: Roman\n",
      "\n",
      "Roman, I'm thinking of a number between 1 and 100. You have 5 tries.\n",
      "Roman, enter your guess: 98\n",
      "Too high. Try again.\n",
      "Roman, enter your guess: 20\n",
      "Too low. Try again.\n",
      "Roman, enter your guess: 30\n",
      "Too low. Try again.\n",
      "Roman, enter your guess: 35\n",
      "Too low. Try again.\n",
      "Roman, enter your guess: 40\n",
      "Too low. Try again.\n",
      "Roman, your attempts are over. Your best guess was 95.24% close to the number.\n",
      "\n",
      "Game Over! Here's the ranking:\n",
      "1. Mitchelle with 95.24% closeness\n",
      "2. Roman with 95.24% closeness\n"
     ]
    }
   ],
   "source": [
    "if __name__ == \"__main__\":\n",
    "    main()\n"
   ]
  },
  {
   "cell_type": "code",
   "execution_count": null,
   "id": "d0a0737d",
   "metadata": {},
   "outputs": [],
   "source": []
  }
 ],
 "metadata": {
  "kernelspec": {
   "display_name": "Python 3 (ipykernel)",
   "language": "python",
   "name": "python3"
  },
  "language_info": {
   "codemirror_mode": {
    "name": "ipython",
    "version": 3
   },
   "file_extension": ".py",
   "mimetype": "text/x-python",
   "name": "python",
   "nbconvert_exporter": "python",
   "pygments_lexer": "ipython3",
   "version": "3.11.4"
  }
 },
 "nbformat": 4,
 "nbformat_minor": 5
}
